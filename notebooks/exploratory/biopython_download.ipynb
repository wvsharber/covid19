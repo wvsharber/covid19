{
 "cells": [
  {
   "cell_type": "code",
   "execution_count": 25,
   "metadata": {},
   "outputs": [],
   "source": [
    "from Bio import SeqIO\n",
    "from Bio import Entrez\n",
    "import os"
   ]
  },
  {
   "cell_type": "code",
   "execution_count": 5,
   "metadata": {},
   "outputs": [],
   "source": [
    "Entrez.email = \"wvsharber@gmail.com\""
   ]
  },
  {
   "cell_type": "code",
   "execution_count": 8,
   "metadata": {},
   "outputs": [
    {
     "name": "stdout",
     "output_type": "stream",
     "text": [
      ">EU490707.1 Selenipedium aequinoctiale maturase K (matK) gene, partial cds; chloroplast\n",
      "ATTTTTTACGAACCTGTGGAAATTTTTGGTTATGACAATAAATCTAGTTTAGTACTTGTGAAACGTTTAA\n",
      "TTACTCGAATGTATCAACAGAATTTTTTGATTTCTTCGGTTAATGATTCTAACCAAAAAGGATTTTGGGG\n",
      "GCACAAGCATTTTTTTTCTTCTCATTTTTCTTCTCAAATGGTATCAGAAGGTTTTGGAGTCATTCTGGAA\n",
      "ATTCCATTCTCGTCGCAATTAGTATCTTCTCTTGAAGAAAAAAAAATACCAAAATATCAGAATTTACGAT\n",
      "CTATTCATTCAATATTTCCCTTTTTAGAAGACAAATTTTTACATTTGAATTATGTGTCAGATCTACTAAT\n",
      "ACCCCATCCCATCCATCTGGAAATCTTGGTTCAAATCCTTCAATGCCGGATCAAGGATGTTCCTTCTTTG\n",
      "CATTTATTGCGATTGCTTTTCCACGAATATCATAATTTGAATAGTCTCATTACTTCAAAGAAATTCATTT\n",
      "ACGCCTTTTCAAAAAGAAAGAAAAGATTCCTTTGGTTACTATATAATTCTTATGTATATGAATGCGAATA\n",
      "TCTATTCCAGTTTCTTCGTAAACAGTCTTCTTATTTACGATCAACATCTTCTGGAGTCTTTCTTGAGCGA\n",
      "ACACATTTATATGTAAAAATAGAACATCTTCTAGTAGTGTGTTGTAATTCTTTTCAGAGGATCCTATGCT\n",
      "TTCTCAAGGATCCTTTCATGCATTATGTTCGATATCAAGGAAAAGCAATTCTGGCTTCAAAGGGAACTCT\n",
      "TATTCTGATGAAGAAATGGAAATTTCATCTTGTGAATTTTTGGCAATCTTATTTTCACTTTTGGTCTCAA\n",
      "CCGTATAGGATTCATATAAAGCAATTATCCAACTATTCCTTCTCTTTTCTGGGGTATTTTTCAAGTGTAC\n",
      "TAGAAAATCATTTGGTAGTAAGAAATCAAATGCTAGAGAATTCATTTATAATAAATCTTCTGACTAAGAA\n",
      "ATTCGATACCATAGCCCCAGTTATTTCTCTTATTGGATCATTGTCGAAAGCTCAATTTTGTACTGTATTG\n",
      "GGTCATCCTATTAGTAAACCGATCTGGACCGATTTCTCGGATTCTGATATTCTTGATCGATTTTGCCGGA\n",
      "TATGTAGAAATCTTTGTCGTTATCACAGCGGATCCTCAAAAAAACAGGTTTTGTATCGTATAAAATATAT\n",
      "ACTTCGACTTTCGTGTGCTAGAACTTTGGCACGGAAACATAAAAGTACAGTACGCACTTTTATGCGAAGA\n",
      "TTAGGTTCGGGATTATTAGAAGAATTCTTTATGGAAGAAGAA\n",
      "\n",
      "\n"
     ]
    }
   ],
   "source": [
    "with Entrez.efetch(db=\"nucleotide\", id=\"EU490707\", rettype=\"fasta\", retmode=\"text\") as handle:\n",
    "    print(handle.read())"
   ]
  },
  {
   "cell_type": "code",
   "execution_count": 10,
   "metadata": {},
   "outputs": [
    {
     "name": "stdout",
     "output_type": "stream",
     "text": [
      "ALL, All Fields, All terms from all searchable fields\n",
      "UID, UID, Unique number assigned to each sequence\n",
      "FILT, Filter, Limits the records\n",
      "WORD, Text Word, Free text associated with record\n",
      "TITL, Title, Words in definition line\n",
      "KYWD, Keyword, Nonstandardized terms provided by submitter\n",
      "AUTH, Author, Author(s) of publication\n",
      "JOUR, Journal, Journal abbreviation of publication\n",
      "VOL, Volume, Volume number of publication\n",
      "ISS, Issue, Issue number of publication\n",
      "PAGE, Page Number, Page number(s) of publication\n",
      "ORGN, Organism, Scientific and common names of organism, and all higher levels of taxonomy\n",
      "ACCN, Accession, Accession number of sequence\n",
      "PACC, Primary Accession, Does not include retired secondary accessions\n",
      "GENE, Gene Name, Name of gene associated with sequence\n",
      "PROT, Protein Name, Name of protein associated with sequence\n",
      "ECNO, EC/RN Number, EC number for enzyme or CAS registry number\n",
      "PDAT, Publication Date, Date sequence added to GenBank\n",
      "MDAT, Modification Date, Date of last update\n",
      "SUBS, Substance Name, CAS chemical name or MEDLINE Substance Name\n",
      "PROP, Properties, Classification by source qualifiers and molecule type\n",
      "SQID, SeqID String, String identifier for sequence\n",
      "GPRJ, BioProject, BioProject\n",
      "SLEN, Sequence Length, Length of sequence\n",
      "FKEY, Feature key, Feature annotated on sequence\n",
      "PORG, Primary Organism, Scientific and common names of primary organism, and all higher levels of taxonomy\n",
      "COMP, Component Accession, Component accessions for an assembly\n",
      "ASSM, Assembly, Assembly\n",
      "DIV, Division, Division\n",
      "STRN, Strain, Strain\n",
      "ISOL, Isolate, Isolate\n",
      "CULT, Cultivar, Cultivar\n",
      "BRD, Breed, Breed\n",
      "BIOS, BioSample, BioSample\n"
     ]
    }
   ],
   "source": [
    "with Entrez.einfo(db=\"nucleotide\") as handle:\n",
    "    record = Entrez.read(handle)\n",
    "\n",
    "for field in record[\"DbInfo\"][\"FieldList\"]:\n",
    "    print(\"%(Name)s, %(FullName)s, %(Description)s\" % field)"
   ]
  },
  {
   "cell_type": "code",
   "execution_count": 19,
   "metadata": {},
   "outputs": [],
   "source": [
    "with Entrez.esearch(db=\"nucleotide\", term=\"SARS-CoV-2[ORGN]\", idtype=\"acc\", retmax=\"10000\") as handle:\n",
    "    results = Entrez.read(handle)"
   ]
  },
  {
   "cell_type": "code",
   "execution_count": 21,
   "metadata": {},
   "outputs": [],
   "source": [
    "accs = results[\"IdList\"]"
   ]
  },
  {
   "cell_type": "code",
   "execution_count": 26,
   "metadata": {},
   "outputs": [
    {
     "name": "stdout",
     "output_type": "stream",
     "text": [
      "Saved\n"
     ]
    }
   ],
   "source": [
    "filename = \"../../data/raw/SARS-CoV-2.gb\"\n",
    "if not os.path.isfile(filename):\n",
    "    # Downloading...\n",
    "    with Entrez.efetch(db=\"nucleotide\", id=accs, rettype=\"gb\", retmode=\"text\") as net_handle: \n",
    "        with open(filename, \"w\") as out_handle:\n",
    "            out_handle.write(net_handle.read())\n",
    "    print(\"Saved\")"
   ]
  },
  {
   "cell_type": "code",
   "execution_count": 29,
   "metadata": {},
   "outputs": [],
   "source": [
    "#print(\"Parsing...\")\n",
    "first = next(SeqIO.parse(filename, \"genbank\"))"
   ]
  },
  {
   "cell_type": "code",
   "execution_count": 34,
   "metadata": {},
   "outputs": [
    {
     "data": {
      "text/plain": [
       "29899"
      ]
     },
     "execution_count": 34,
     "metadata": {},
     "output_type": "execute_result"
    }
   ],
   "source": [
    "len(first.seq)"
   ]
  },
  {
   "cell_type": "code",
   "execution_count": 35,
   "metadata": {},
   "outputs": [],
   "source": [
    "with Entrez.efetch(db=\"nucleotide\", id=accs[0], rettype=\"fasta\", retmode=\"text\") as handle:\n",
    "    one = handle.read()"
   ]
  },
  {
   "cell_type": "code",
   "execution_count": null,
   "metadata": {},
   "outputs": [],
   "source": []
  }
 ],
 "metadata": {
  "kernelspec": {
   "display_name": "covid19-env",
   "language": "python",
   "name": "covid19-env"
  },
  "language_info": {
   "codemirror_mode": {
    "name": "ipython",
    "version": 3
   },
   "file_extension": ".py",
   "mimetype": "text/x-python",
   "name": "python",
   "nbconvert_exporter": "python",
   "pygments_lexer": "ipython3",
   "version": "3.8.3"
  }
 },
 "nbformat": 4,
 "nbformat_minor": 4
}
