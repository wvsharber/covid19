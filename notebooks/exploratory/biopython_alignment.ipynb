{
 "cells": [
  {
   "cell_type": "code",
   "execution_count": 1,
   "metadata": {},
   "outputs": [],
   "source": [
    "from Bio import SeqIO\n",
    "from Bio import SeqRecord\n",
    "import os"
   ]
  },
  {
   "cell_type": "code",
   "execution_count": 2,
   "metadata": {},
   "outputs": [],
   "source": [
    "#Read in unfiltered data\n",
    "unfiltered = SeqIO.parse(\"../../data/raw/SARS-CoV-2.gbk\", \"genbank\")"
   ]
  },
  {
   "cell_type": "code",
   "execution_count": 3,
   "metadata": {},
   "outputs": [],
   "source": [
    "#Drop data without (close to) full length sequences\n",
    "full_length_records = []\n",
    "for record in unfiltered:\n",
    "    if len(record.seq) > 29000:\n",
    "        full_length_records.append(record)"
   ]
  },
  {
   "cell_type": "code",
   "execution_count": 4,
   "metadata": {},
   "outputs": [
    {
     "data": {
      "text/plain": [
       "5398"
      ]
     },
     "execution_count": 4,
     "metadata": {},
     "output_type": "execute_result"
    }
   ],
   "source": [
    "#Write filtered data to file\n",
    "SeqIO.write(full_length_records, \"../../data/raw/SARS-CoV-2.fasta\", \"fasta\")"
   ]
  },
  {
   "cell_type": "code",
   "execution_count": null,
   "metadata": {},
   "outputs": [],
   "source": [
    "#Convert filtered file to alignable format\n"
   ]
  }
 ],
 "metadata": {
  "kernelspec": {
   "display_name": "covid19-env",
   "language": "python",
   "name": "covid19-env"
  },
  "language_info": {
   "codemirror_mode": {
    "name": "ipython",
    "version": 3
   },
   "file_extension": ".py",
   "mimetype": "text/x-python",
   "name": "python",
   "nbconvert_exporter": "python",
   "pygments_lexer": "ipython3",
   "version": "3.8.3"
  }
 },
 "nbformat": 4,
 "nbformat_minor": 4
}
