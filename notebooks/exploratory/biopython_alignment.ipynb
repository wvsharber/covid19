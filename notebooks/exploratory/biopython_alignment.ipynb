{
 "cells": [
  {
   "cell_type": "markdown",
   "metadata": {},
   "source": [
    "# Sequence Alignment\n",
    "\n",
    "In this notebook, I will use the sequence data downloaded from GenBank of SARS-CoV-2 to create a multiple sequence alignment of the full-length sequences. First, I filter the sequences to exclude shorter sequences. Then, I use the MUSCLE alignment software to align the sequences. "
   ]
  },
  {
   "cell_type": "code",
   "execution_count": 1,
   "metadata": {},
   "outputs": [],
   "source": [
    "from Bio import SeqIO\n",
    "from Bio import SeqRecord\n",
    "import os"
   ]
  },
  {
   "cell_type": "code",
   "execution_count": 2,
   "metadata": {},
   "outputs": [],
   "source": [
    "#Read in unfiltered data\n",
    "unfiltered = SeqIO.parse(\"../../data/raw/SARS-CoV-2.gbk\", \"genbank\")"
   ]
  },
  {
   "cell_type": "code",
   "execution_count": 3,
   "metadata": {},
   "outputs": [],
   "source": [
    "#Drop data without (close to) full length sequences\n",
    "full_length_records = []\n",
    "for record in unfiltered:\n",
    "    if len(record.seq) > 29000:\n",
    "        full_length_records.append(record)"
   ]
  },
  {
   "cell_type": "code",
   "execution_count": 4,
   "metadata": {},
   "outputs": [
    {
     "data": {
      "text/plain": [
       "5398"
      ]
     },
     "execution_count": 4,
     "metadata": {},
     "output_type": "execute_result"
    }
   ],
   "source": [
    "#Write filtered data to file\n",
    "SeqIO.write(full_length_records, \"../../data/raw/SARS-CoV-2.fasta\", \"fasta\")"
   ]
  },
  {
   "cell_type": "markdown",
   "metadata": {},
   "source": [
    "Download and install MUSCLE for multiple sequence aligment at http://www.drive5.com/muscle\n",
    "\n",
    "MUSCLE needs to be in your $PATH for it to work with the Biopython wrapper. Once you download and unzip the tarball file, I suggest renaming the executable file to just 'muscle.' Then, use the following command to move it to your usr/local/bin.\n",
    "\n",
    "`cp path_to_muscle /usr/local/bin`"
   ]
  },
  {
   "cell_type": "code",
   "execution_count": 6,
   "metadata": {},
   "outputs": [],
   "source": [
    "#Align sequences with MUSCLE\n",
    "from Bio.Align.Applications import MuscleCommandline"
   ]
  },
  {
   "cell_type": "code",
   "execution_count": 8,
   "metadata": {},
   "outputs": [],
   "source": [
    "muscle_cline = MuscleCommandline(input=\"../../data/raw/SARS-CoV-2.fasta\", out=\"../../data/processed/SARS-CoV-2_aligned.fasta\")"
   ]
  },
  {
   "cell_type": "code",
   "execution_count": null,
   "metadata": {},
   "outputs": [],
   "source": [
    "muscle_cline()"
   ]
  },
  {
   "cell_type": "code",
   "execution_count": null,
   "metadata": {},
   "outputs": [],
   "source": []
  }
 ],
 "metadata": {
  "kernelspec": {
   "display_name": "covid19-env",
   "language": "python",
   "name": "covid19-env"
  },
  "language_info": {
   "codemirror_mode": {
    "name": "ipython",
    "version": 3
   },
   "file_extension": ".py",
   "mimetype": "text/x-python",
   "name": "python",
   "nbconvert_exporter": "python",
   "pygments_lexer": "ipython3",
   "version": "3.8.3"
  }
 },
 "nbformat": 4,
 "nbformat_minor": 4
}
