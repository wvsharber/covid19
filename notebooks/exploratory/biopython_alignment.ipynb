{
 "cells": [
  {
   "cell_type": "markdown",
   "metadata": {},
   "source": [
    "# Sequence Alignment\n",
    "\n",
    "In this notebook, I will use the sequence data downloaded from GenBank of SARS-CoV-2 to create a multiple sequence alignment of the full-length sequences. First, I filter the sequences to exclude shorter sequences. Then, I use the MUSCLE alignment software to align the sequences. "
   ]
  },
  {
   "cell_type": "code",
   "execution_count": 1,
   "metadata": {},
   "outputs": [],
   "source": [
    "from Bio import SeqIO\n",
    "from Bio import SeqRecord\n",
    "import os"
   ]
  },
  {
   "cell_type": "code",
   "execution_count": 2,
   "metadata": {},
   "outputs": [],
   "source": [
    "#Read in unfiltered data\n",
    "unfiltered = SeqIO.parse(\"../../data/raw/SARS-CoV-2.gbk\", \"genbank\")"
   ]
  },
  {
   "cell_type": "code",
   "execution_count": 3,
   "metadata": {},
   "outputs": [],
   "source": [
    "#Drop data without (close to) full length sequences\n",
    "full_length_records = []\n",
    "for record in unfiltered:\n",
    "    if len(record.seq) > 29000:\n",
    "        full_length_records.append(record)"
   ]
  },
  {
   "cell_type": "code",
   "execution_count": 4,
   "metadata": {},
   "outputs": [
    {
     "data": {
      "text/plain": [
       "5398"
      ]
     },
     "execution_count": 4,
     "metadata": {},
     "output_type": "execute_result"
    }
   ],
   "source": [
    "#Write filtered data to file\n",
    "SeqIO.write(full_length_records, \"../../data/raw/SARS-CoV-2.fasta\", \"fasta\")"
   ]
  },
  {
   "cell_type": "markdown",
   "metadata": {},
   "source": [
    "Download and install MUSCLE for multiple sequence aligment at http://www.drive5.com/muscle\n",
    "\n",
    "MUSCLE needs to be in your $PATH for it to work with the Biopython wrapper. Once you download and unzip the tarball file, I suggest renaming the executable file to just 'muscle.' Then, use the following command to move it to your usr/local/bin.\n",
    "\n",
    "`cp path_to_muscle /usr/local/bin`"
   ]
  },
  {
   "cell_type": "code",
   "execution_count": 6,
   "metadata": {},
   "outputs": [],
   "source": [
    "#Align sequences with MUSCLE\n",
    "from Bio.Align.Applications import MuscleCommandline"
   ]
  },
  {
   "cell_type": "code",
   "execution_count": 15,
   "metadata": {},
   "outputs": [],
   "source": [
    "muscle_cline = MuscleCommandline(input=\"../../data/raw/SARS-CoV-2.fasta\", \n",
    "                                 out=\"../../data/processed/SARS-CoV-2_aligned.fasta\", \n",
    "                                 diags = True, \n",
    "                                 maxiters = 1, \n",
    "                                 #maxhours = 60, \n",
    "                                 log = \"../../data/raw/align_log.txt\")"
   ]
  },
  {
   "cell_type": "code",
   "execution_count": 16,
   "metadata": {},
   "outputs": [
    {
     "ename": "ApplicationError",
     "evalue": "Non-zero return code -9 from 'muscle -in ../../data/raw/SARS-CoV-2.fasta -out ../../data/processed/SARS-CoV-2_aligned.fasta -diags -log ../../data/raw/align_log.txt -maxiters 1', message 'MUSCLE v3.8.31 by Robert C. Edgar'",
     "output_type": "error",
     "traceback": [
      "\u001b[0;31m---------------------------------------------------------------------------\u001b[0m",
      "\u001b[0;31mApplicationError\u001b[0m                          Traceback (most recent call last)",
      "\u001b[0;32m<ipython-input-16-3d47afa9b001>\u001b[0m in \u001b[0;36m<module>\u001b[0;34m\u001b[0m\n\u001b[0;32m----> 1\u001b[0;31m \u001b[0mmuscle_cline\u001b[0m\u001b[0;34m(\u001b[0m\u001b[0;34m)\u001b[0m\u001b[0;34m\u001b[0m\u001b[0;34m\u001b[0m\u001b[0m\n\u001b[0m",
      "\u001b[0;32m/opt/anaconda3/envs/covid19-env/lib/python3.8/site-packages/Bio/Application/__init__.py\u001b[0m in \u001b[0;36m__call__\u001b[0;34m(self, stdin, stdout, stderr, cwd, env)\u001b[0m\n\u001b[1;32m    567\u001b[0m \u001b[0;34m\u001b[0m\u001b[0m\n\u001b[1;32m    568\u001b[0m         \u001b[0;32mif\u001b[0m \u001b[0mreturn_code\u001b[0m\u001b[0;34m:\u001b[0m\u001b[0;34m\u001b[0m\u001b[0;34m\u001b[0m\u001b[0m\n\u001b[0;32m--> 569\u001b[0;31m             \u001b[0;32mraise\u001b[0m \u001b[0mApplicationError\u001b[0m\u001b[0;34m(\u001b[0m\u001b[0mreturn_code\u001b[0m\u001b[0;34m,\u001b[0m \u001b[0mstr\u001b[0m\u001b[0;34m(\u001b[0m\u001b[0mself\u001b[0m\u001b[0;34m)\u001b[0m\u001b[0;34m,\u001b[0m \u001b[0mstdout_str\u001b[0m\u001b[0;34m,\u001b[0m \u001b[0mstderr_str\u001b[0m\u001b[0;34m)\u001b[0m\u001b[0;34m\u001b[0m\u001b[0;34m\u001b[0m\u001b[0m\n\u001b[0m\u001b[1;32m    570\u001b[0m         \u001b[0;32mreturn\u001b[0m \u001b[0mstdout_str\u001b[0m\u001b[0;34m,\u001b[0m \u001b[0mstderr_str\u001b[0m\u001b[0;34m\u001b[0m\u001b[0;34m\u001b[0m\u001b[0m\n\u001b[1;32m    571\u001b[0m \u001b[0;34m\u001b[0m\u001b[0m\n",
      "\u001b[0;31mApplicationError\u001b[0m: Non-zero return code -9 from 'muscle -in ../../data/raw/SARS-CoV-2.fasta -out ../../data/processed/SARS-CoV-2_aligned.fasta -diags -log ../../data/raw/align_log.txt -maxiters 1', message 'MUSCLE v3.8.31 by Robert C. Edgar'"
     ]
    }
   ],
   "source": [
    "muscle_cline()"
   ]
  },
  {
   "cell_type": "code",
   "execution_count": null,
   "metadata": {},
   "outputs": [],
   "source": []
  }
 ],
 "metadata": {
  "kernelspec": {
   "display_name": "covid19-env",
   "language": "python",
   "name": "covid19-env"
  }
 },
 "nbformat": 4,
 "nbformat_minor": 4
}
